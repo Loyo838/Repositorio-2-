{
 "cells": [
  {
   "cell_type": "code",
   "execution_count": 1,
   "metadata": {},
   "outputs": [
    {
     "name": "stdout",
     "output_type": "stream",
     "text": [
      "Predicciones:  [139.5475584  179.51720835 134.03875572 291.41702925 123.78965872\n",
      "  92.1723465  258.23238899 181.33732057  90.22411311 108.63375858\n",
      "  94.13865744 168.43486358  53.5047888  206.63081659 100.12925869\n",
      " 130.66657085 219.53071499 250.7803234  196.3688346  218.57511815\n",
      " 207.35050182  88.48340941  70.43285917 188.95914235 154.8868162\n",
      " 159.36170122 188.31263363 180.39094033  47.99046561 108.97453871\n",
      " 174.77897633  86.36406656 132.95761215 184.53819483 173.83220911\n",
      " 190.35858492 124.4156176  119.65110656 147.95168682  59.05405241\n",
      "  71.62331856 107.68284704 165.45365458 155.00975931 171.04799096\n",
      "  61.45761356  71.66672581 114.96732206  51.57975523 167.57599528\n",
      " 152.52291955  62.95568515 103.49741722 109.20751489 175.64118426\n",
      " 154.60296242  94.41704366 210.74209145 120.2566205   77.61585399\n",
      " 187.93203995 206.49337474 140.63167076 105.59678023 130.70432536\n",
      " 202.18534537 171.13039501 164.91423047 124.72472569 144.81030894\n",
      " 181.99635452 199.41369642 234.21436188 145.95665512  79.86703276\n",
      " 157.36941275 192.74412541 208.89814032 158.58722555 206.02195855\n",
      " 107.47971675 140.93598906  54.82129332  55.92573195 115.01180018\n",
      "  78.95584188  81.56087285  54.37997256 166.2543518 ]\n",
      "Error cuadrático medio (MSE):  2900.1936284934814\n",
      "Coeficiente de determinación (R²):  0.4526027629719195\n"
     ]
    }
   ],
   "source": [
    "import numpy as np\n",
    "from sklearn.model_selection import train_test_split\n",
    "from sklearn.linear_model import LinearRegression\n",
    "from sklearn.datasets import load_diabetes\n",
    "from sklearn.metrics import mean_squared_error, r2_score\n",
    "\n",
    "\n",
    "diabetes = load_diabetes()\n",
    "X = diabetes.data  # Variables independientes\n",
    "y = diabetes.target  # Variable dependiente (progresión de la enfermedad)\n",
    "\n",
    "X_train, X_test, y_train, y_test = train_test_split(X, y, test_size=0.2, random_state=42)\n",
    "\n",
    " #Modelo de regresión lineal\n",
    "model = LinearRegression()\n",
    "\n",
    "#Entrenar el modelo\n",
    "model.fit(X_train, y_train)\n",
    "\n",
    "#Realizar predicciones\n",
    "predictions = model.predict(X_test)\n",
    "\n",
    "#Predicciones\n",
    "print(\"Predicciones: \", predictions)\n",
    "\n",
    "#Modelo con MSE\n",
    "mse = mean_squared_error(y_test, predictions)\n",
    "print(\"Error cuadrático medio (MSE): \", mse)\n",
    "\n",
    "#Modelo con R² score\n",
    "r2 = r2_score(y_test, predictions)\n",
    "print(\"Coeficiente de determinación (R²): \", r2)\n"
   ]
  }
 ],
 "metadata": {
  "kernelspec": {
   "display_name": "Python 3",
   "language": "python",
   "name": "python3"
  },
  "language_info": {
   "codemirror_mode": {
    "name": "ipython",
    "version": 3
   },
   "file_extension": ".py",
   "mimetype": "text/x-python",
   "name": "python",
   "nbconvert_exporter": "python",
   "pygments_lexer": "ipython3",
   "version": "3.11.9"
  }
 },
 "nbformat": 4,
 "nbformat_minor": 2
}
